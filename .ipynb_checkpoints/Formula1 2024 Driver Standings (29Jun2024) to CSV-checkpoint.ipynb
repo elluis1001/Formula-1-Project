{
 "cells": [
  {
   "cell_type": "code",
   "execution_count": 20,
   "id": "50d54522",
   "metadata": {},
   "outputs": [
    {
     "name": "stdout",
     "output_type": "stream",
     "text": [
      "Requirement already satisfied: beautifulsoup4 in c:\\users\\ellui\\anaconda3\\envs\\dev\\lib\\site-packages (4.12.2)\n",
      "Requirement already satisfied: soupsieve>1.2 in c:\\users\\ellui\\anaconda3\\envs\\dev\\lib\\site-packages (from beautifulsoup4) (2.4)\n"
     ]
    }
   ],
   "source": [
    "!pip install beautifulsoup4"
   ]
  },
  {
   "cell_type": "code",
   "execution_count": 32,
   "id": "bbb0bdce",
   "metadata": {},
   "outputs": [],
   "source": [
    "import requests\n",
    "from bs4 import BeautifulSoup\n",
    "import pandas as pd"
   ]
  },
  {
   "cell_type": "code",
   "execution_count": 33,
   "id": "2218ab3c",
   "metadata": {},
   "outputs": [],
   "source": [
    "# URL of the F1 drivers standings page:\n",
    "url = \"https://www.formula1.com/en/results.html/2024/drivers.html\""
   ]
  },
  {
   "cell_type": "code",
   "execution_count": 34,
   "id": "c2589731",
   "metadata": {},
   "outputs": [],
   "source": [
    "# Send GET request to the URL:\n",
    "response= requests.get(url)"
   ]
  },
  {
   "cell_type": "code",
   "execution_count": 37,
   "id": "422b7b72",
   "metadata": {},
   "outputs": [],
   "source": [
    "# Parse the HTMLcontent:\n",
    "soup = BeautifulSoup(response.content, 'html.parser')"
   ]
  },
  {
   "cell_type": "code",
   "execution_count": 38,
   "id": "86ac6f1f",
   "metadata": {},
   "outputs": [],
   "source": [
    "# Find the table containing the standings:\n",
    "table = soup.find('table', class_='resultsarchive-table')"
   ]
  },
  {
   "cell_type": "code",
   "execution_count": 39,
   "id": "7cf1e801",
   "metadata": {},
   "outputs": [],
   "source": [
    "# Extract data from the table:\n",
    "data = []\n",
    "for row in table.find_all('tr')[1:]:  # Skip the header row\n",
    "    cols = row.find_all('td')\n",
    "    if len(cols) > 0:\n",
    "        position = cols[1].text.strip()\n",
    "        driver = cols[2].text.strip()\n",
    "        nationality = cols[3].text.strip()\n",
    "        team = cols[4].text.strip()\n",
    "        points = cols[5].text.strip()\n",
    "        data.append([position, driver, nationality, team, points])"
   ]
  },
  {
   "cell_type": "code",
   "execution_count": 40,
   "id": "9ba210dc",
   "metadata": {},
   "outputs": [],
   "source": [
    "# Create a DataFrame:\n",
    "df = pd.DataFrame(data, columns=['Position', 'Driver', 'Nationality', 'Team', 'Points'])"
   ]
  },
  {
   "cell_type": "code",
   "execution_count": 41,
   "id": "a24f162b",
   "metadata": {},
   "outputs": [
    {
     "name": "stdout",
     "output_type": "stream",
     "text": [
      "   Position                  Driver Nationality                          Team  \\\n",
      "0         1    Max\\nVerstappen\\nVER         NED    Red Bull Racing Honda RBPT   \n",
      "1         2      Lando\\nNorris\\nNOR         GBR              McLaren Mercedes   \n",
      "2         3   Charles\\nLeclerc\\nLEC         MON                       Ferrari   \n",
      "3         4      Carlos\\nSainz\\nSAI         ESP                       Ferrari   \n",
      "4         5      Sergio\\nPerez\\nPER         MEX    Red Bull Racing Honda RBPT   \n",
      "5         6     Oscar\\nPiastri\\nPIA         AUS              McLaren Mercedes   \n",
      "6         7    George\\nRussell\\nRUS         GBR                      Mercedes   \n",
      "7         8    Lewis\\nHamilton\\nHAM         GBR                      Mercedes   \n",
      "8         9   Fernando\\nAlonso\\nALO         ESP  Aston Martin Aramco Mercedes   \n",
      "9        10      Yuki\\nTsunoda\\nTSU         JPN                 RB Honda RBPT   \n",
      "10       11      Lance\\nStroll\\nSTR         CAN  Aston Martin Aramco Mercedes   \n",
      "11       12  Daniel\\nRicciardo\\nRIC         AUS                 RB Honda RBPT   \n",
      "12       13    Oliver\\nBearman\\nBEA         GBR                       Ferrari   \n",
      "13       14   Nico\\nHulkenberg\\nHUL         GER                  Haas Ferrari   \n",
      "14       15      Pierre\\nGasly\\nGAS         FRA                Alpine Renault   \n",
      "15       16      Esteban\\nOcon\\nOCO         FRA                Alpine Renault   \n",
      "16       17   Alexander\\nAlbon\\nALB         THA             Williams Mercedes   \n",
      "17       18   Kevin\\nMagnussen\\nMAG         DEN                  Haas Ferrari   \n",
      "18       19       Zhou\\nGuanyu\\nZHO         CHN           Kick Sauber Ferrari   \n",
      "19       20   Valtteri\\nBottas\\nBOT         FIN           Kick Sauber Ferrari   \n",
      "20       21    Logan\\nSargeant\\nSAR         USA             Williams Mercedes   \n",
      "\n",
      "   Points  \n",
      "0     219  \n",
      "1     150  \n",
      "2     148  \n",
      "3     116  \n",
      "4     111  \n",
      "5      87  \n",
      "6      81  \n",
      "7      70  \n",
      "8      41  \n",
      "9      19  \n",
      "10     17  \n",
      "11      9  \n",
      "12      6  \n",
      "13      6  \n",
      "14      5  \n",
      "15      3  \n",
      "16      2  \n",
      "17      1  \n",
      "18      0  \n",
      "19      0  \n",
      "20      0  \n"
     ]
    }
   ],
   "source": [
    "# Display the data:\n",
    "print(df)"
   ]
  },
  {
   "cell_type": "code",
   "execution_count": 42,
   "id": "62f45ce8",
   "metadata": {},
   "outputs": [],
   "source": [
    "# Save to a CSV file in Colab\n",
    "df.to_csv('f1_driver_standings.csv', index=False)"
   ]
  }
 ],
 "metadata": {
  "kernelspec": {
   "display_name": "Python 3 (ipykernel)",
   "language": "python",
   "name": "python3"
  },
  "language_info": {
   "codemirror_mode": {
    "name": "ipython",
    "version": 3
   },
   "file_extension": ".py",
   "mimetype": "text/x-python",
   "name": "python",
   "nbconvert_exporter": "python",
   "pygments_lexer": "ipython3",
   "version": "3.10.13"
  }
 },
 "nbformat": 4,
 "nbformat_minor": 5
}
