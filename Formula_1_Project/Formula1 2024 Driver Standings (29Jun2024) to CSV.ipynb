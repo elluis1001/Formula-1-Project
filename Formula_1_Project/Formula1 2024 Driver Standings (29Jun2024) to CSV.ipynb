{
 "cells": [
  {
   "cell_type": "code",
   "execution_count": 1,
   "id": "bbb0bdce",
   "metadata": {},
   "outputs": [],
   "source": [
    "import requests\n",
    "from bs4 import BeautifulSoup\n",
    "import pandas as pd"
   ]
  },
  {
   "cell_type": "code",
   "execution_count": 2,
   "id": "2218ab3c",
   "metadata": {},
   "outputs": [],
   "source": [
    "# URL of the F1 drivers standings page:\n",
    "url = \"https://www.formula1.com/en/results.html/2024/drivers.html\""
   ]
  },
  {
   "cell_type": "code",
   "execution_count": 3,
   "id": "c2589731",
   "metadata": {},
   "outputs": [],
   "source": [
    "# Send GET request to the URL:\n",
    "response= requests.get(url)"
   ]
  },
  {
   "cell_type": "code",
   "execution_count": 4,
   "id": "422b7b72",
   "metadata": {},
   "outputs": [],
   "source": [
    "# Parse the HTMLcontent:\n",
    "soup = BeautifulSoup(response.content, 'html.parser')"
   ]
  },
  {
   "cell_type": "code",
   "execution_count": 5,
   "id": "86ac6f1f",
   "metadata": {},
   "outputs": [],
   "source": [
    "# Find the table containing the standings:\n",
    "table = soup.find('table', class_='resultsarchive-table')"
   ]
  },
  {
   "cell_type": "code",
   "execution_count": 6,
   "id": "7cf1e801",
   "metadata": {},
   "outputs": [],
   "source": [
    "# Extract data from the table:\n",
    "data = []\n",
    "for row in table.find_all('tr')[1:]:  # Skip the header row\n",
    "    cols = row.find_all('td')\n",
    "    if len(cols) > 0:\n",
    "        position = cols[1].text.strip()\n",
    "        driver = cols[2].text.strip()\n",
    "        nationality = cols[3].text.strip()\n",
    "        team = cols[4].text.strip()\n",
    "        points = cols[5].text.strip()\n",
    "        data.append([position, driver, nationality, team, points])\n",
    "\n",
    "# Create a DataFrame:\n",
    "df = pd.DataFrame(data, columns=['Position', 'Driver', 'Nationality', 'Team', 'Points'])"
   ]
  },
  {
   "cell_type": "code",
   "execution_count": 7,
   "id": "9ba210dc",
   "metadata": {},
   "outputs": [],
   "source": [
    "# Create a DataFrame:\n",
    "df = pd.DataFrame(data, columns=['Position', 'Driver', 'Nationality', 'Car', 'PTS'])"
   ]
  },
  {
   "cell_type": "code",
   "execution_count": 8,
   "id": "a24f162b",
   "metadata": {},
   "outputs": [
    {
     "name": "stdout",
     "output_type": "stream",
     "text": [
      "   Position                  Driver Nationality                           Car  \\\n",
      "0         1    Max\\nVerstappen\\nVER         NED    Red Bull Racing Honda RBPT   \n",
      "1         2      Lando\\nNorris\\nNOR         GBR              McLaren Mercedes   \n",
      "2         3   Charles\\nLeclerc\\nLEC         MON                       Ferrari   \n",
      "3         4      Carlos\\nSainz\\nSAI         ESP                       Ferrari   \n",
      "4         5      Sergio\\nPerez\\nPER         MEX    Red Bull Racing Honda RBPT   \n",
      "5         6     Oscar\\nPiastri\\nPIA         AUS              McLaren Mercedes   \n",
      "6         7    George\\nRussell\\nRUS         GBR                      Mercedes   \n",
      "7         8    Lewis\\nHamilton\\nHAM         GBR                      Mercedes   \n",
      "8         9   Fernando\\nAlonso\\nALO         ESP  Aston Martin Aramco Mercedes   \n",
      "9        10      Yuki\\nTsunoda\\nTSU         JPN                 RB Honda RBPT   \n",
      "10       11      Lance\\nStroll\\nSTR         CAN  Aston Martin Aramco Mercedes   \n",
      "11       12  Daniel\\nRicciardo\\nRIC         AUS                 RB Honda RBPT   \n",
      "12       13    Oliver\\nBearman\\nBEA         GBR                       Ferrari   \n",
      "13       14   Nico\\nHulkenberg\\nHUL         GER                  Haas Ferrari   \n",
      "14       15      Pierre\\nGasly\\nGAS         FRA                Alpine Renault   \n",
      "15       16      Esteban\\nOcon\\nOCO         FRA                Alpine Renault   \n",
      "16       17   Alexander\\nAlbon\\nALB         THA             Williams Mercedes   \n",
      "17       18   Kevin\\nMagnussen\\nMAG         DEN                  Haas Ferrari   \n",
      "18       19       Zhou\\nGuanyu\\nZHO         CHN           Kick Sauber Ferrari   \n",
      "19       20   Valtteri\\nBottas\\nBOT         FIN           Kick Sauber Ferrari   \n",
      "20       21    Logan\\nSargeant\\nSAR         USA             Williams Mercedes   \n",
      "\n",
      "    PTS  \n",
      "0   219  \n",
      "1   150  \n",
      "2   148  \n",
      "3   116  \n",
      "4   111  \n",
      "5    87  \n",
      "6    81  \n",
      "7    70  \n",
      "8    41  \n",
      "9    19  \n",
      "10   17  \n",
      "11    9  \n",
      "12    6  \n",
      "13    6  \n",
      "14    5  \n",
      "15    3  \n",
      "16    2  \n",
      "17    1  \n",
      "18    0  \n",
      "19    0  \n",
      "20    0  \n"
     ]
    }
   ],
   "source": [
    "# Display the data:\n",
    "print(df)"
   ]
  },
  {
   "cell_type": "code",
   "execution_count": 9,
   "id": "5b1d63bb",
   "metadata": {},
   "outputs": [
    {
     "name": "stdout",
     "output_type": "stream",
     "text": [
      "   Position First Name   Last Name Code Nationality  \\\n",
      "0         1        Max  Verstappen  VER         NED   \n",
      "1         2      Lando      Norris  NOR         GBR   \n",
      "2         3    Charles     Leclerc  LEC         MON   \n",
      "3         4     Carlos       Sainz  SAI         ESP   \n",
      "4         5     Sergio       Perez  PER         MEX   \n",
      "5         6      Oscar     Piastri  PIA         AUS   \n",
      "6         7     George     Russell  RUS         GBR   \n",
      "7         8      Lewis    Hamilton  HAM         GBR   \n",
      "8         9   Fernando      Alonso  ALO         ESP   \n",
      "9        10       Yuki     Tsunoda  TSU         JPN   \n",
      "10       11      Lance      Stroll  STR         CAN   \n",
      "11       12     Daniel   Ricciardo  RIC         AUS   \n",
      "12       13     Oliver     Bearman  BEA         GBR   \n",
      "13       14       Nico  Hulkenberg  HUL         GER   \n",
      "14       15     Pierre       Gasly  GAS         FRA   \n",
      "15       16    Esteban        Ocon  OCO         FRA   \n",
      "16       17  Alexander       Albon  ALB         THA   \n",
      "17       18      Kevin   Magnussen  MAG         DEN   \n",
      "18       19       Zhou      Guanyu  ZHO         CHN   \n",
      "19       20   Valtteri      Bottas  BOT         FIN   \n",
      "20       21      Logan    Sargeant  SAR         USA   \n",
      "\n",
      "                             Car  PTS  \n",
      "0     Red Bull Racing Honda RBPT  219  \n",
      "1               McLaren Mercedes  150  \n",
      "2                        Ferrari  148  \n",
      "3                        Ferrari  116  \n",
      "4     Red Bull Racing Honda RBPT  111  \n",
      "5               McLaren Mercedes   87  \n",
      "6                       Mercedes   81  \n",
      "7                       Mercedes   70  \n",
      "8   Aston Martin Aramco Mercedes   41  \n",
      "9                  RB Honda RBPT   19  \n",
      "10  Aston Martin Aramco Mercedes   17  \n",
      "11                 RB Honda RBPT    9  \n",
      "12                       Ferrari    6  \n",
      "13                  Haas Ferrari    6  \n",
      "14                Alpine Renault    5  \n",
      "15                Alpine Renault    3  \n",
      "16             Williams Mercedes    2  \n",
      "17                  Haas Ferrari    1  \n",
      "18           Kick Sauber Ferrari    0  \n",
      "19           Kick Sauber Ferrari    0  \n",
      "20             Williams Mercedes    0  \n"
     ]
    }
   ],
   "source": [
    "#Split the 'Driver' column\n",
    "df[['First Name', 'Last Name', 'Code']] = df['Driver'].str.split('\\n', expand=True)\n",
    "\n",
    "# Reorder the columns\n",
    "df = df[['Position', 'First Name', 'Last Name', 'Code', 'Nationality', 'Car', 'PTS']]\n",
    "\n",
    "# Display the updated DataFrame\n",
    "print(df)"
   ]
  },
  {
   "cell_type": "code",
   "execution_count": 10,
   "id": "2a64b8d1",
   "metadata": {},
   "outputs": [
    {
     "name": "stdout",
     "output_type": "stream",
     "text": [
      "Index(['Position', 'First Name', 'Last Name', 'Code', 'Nationality', 'Car',\n",
      "       'PTS'],\n",
      "      dtype='object')\n"
     ]
    }
   ],
   "source": [
    "print(df.columns)"
   ]
  },
  {
   "cell_type": "code",
   "execution_count": 11,
   "id": "aeb609c9",
   "metadata": {},
   "outputs": [
    {
     "name": "stdout",
     "output_type": "stream",
     "text": [
      "   Position         Full Name Nationality                           Car  PTS\n",
      "0         1    Max Verstappen         NED    Red Bull Racing Honda RBPT  219\n",
      "1         2      Lando Norris         GBR              McLaren Mercedes  150\n",
      "2         3   Charles Leclerc         MON                       Ferrari  148\n",
      "3         4      Carlos Sainz         ESP                       Ferrari  116\n",
      "4         5      Sergio Perez         MEX    Red Bull Racing Honda RBPT  111\n",
      "5         6     Oscar Piastri         AUS              McLaren Mercedes   87\n",
      "6         7    George Russell         GBR                      Mercedes   81\n",
      "7         8    Lewis Hamilton         GBR                      Mercedes   70\n",
      "8         9   Fernando Alonso         ESP  Aston Martin Aramco Mercedes   41\n",
      "9        10      Yuki Tsunoda         JPN                 RB Honda RBPT   19\n",
      "10       11      Lance Stroll         CAN  Aston Martin Aramco Mercedes   17\n",
      "11       12  Daniel Ricciardo         AUS                 RB Honda RBPT    9\n",
      "12       13    Oliver Bearman         GBR                       Ferrari    6\n",
      "13       14   Nico Hulkenberg         GER                  Haas Ferrari    6\n",
      "14       15      Pierre Gasly         FRA                Alpine Renault    5\n",
      "15       16      Esteban Ocon         FRA                Alpine Renault    3\n",
      "16       17   Alexander Albon         THA             Williams Mercedes    2\n",
      "17       18   Kevin Magnussen         DEN                  Haas Ferrari    1\n",
      "18       19       Zhou Guanyu         CHN           Kick Sauber Ferrari    0\n",
      "19       20   Valtteri Bottas         FIN           Kick Sauber Ferrari    0\n",
      "20       21    Logan Sargeant         USA             Williams Mercedes    0\n"
     ]
    }
   ],
   "source": [
    "# Combine 'First Name' and 'Last Name' into 'Full Name'\n",
    "df['Full Name'] = df['First Name'] + ' ' + df['Last Name']\n",
    "\n",
    "# Rearrange the columns to put 'Full Name' in a logical position\n",
    "columns_order = ['Position', 'Full Name', 'Nationality', 'Car', 'PTS']\n",
    "df = df[columns_order]\n",
    "\n",
    "# Display the updated DataFrame\n",
    "print(df)"
   ]
  },
  {
   "cell_type": "code",
   "execution_count": 12,
   "id": "62f45ce8",
   "metadata": {},
   "outputs": [],
   "source": [
    "# Save to a CSV file in Colab\n",
    "df.to_csv('f1_driver_standings_2024.csv', index=False)"
   ]
  }
 ],
 "metadata": {
  "kernelspec": {
   "display_name": "Python 3 (ipykernel)",
   "language": "python",
   "name": "python3"
  },
  "language_info": {
   "codemirror_mode": {
    "name": "ipython",
    "version": 3
   },
   "file_extension": ".py",
   "mimetype": "text/x-python",
   "name": "python",
   "nbconvert_exporter": "python",
   "pygments_lexer": "ipython3",
   "version": "3.10.13"
  }
 },
 "nbformat": 4,
 "nbformat_minor": 5
}
